import re
print("Calculator")
print("Type quit to exit")
previous=0
run=True

def calc():
    global run #to access and change the values insde function
    global previous
    equation=""
    if previous==0:
        equation=input("Enter the equation")
    else:
        equation=input(str(previous))
    
    if equation=="quit":
        run=False
    
    else:
        equation=re.sub("[a-zA-Z,?:()!" ".]"," ",equation)
        
        if previous==0:
            previous=eval(equation)
        else:
            previous=eval(str(previous)+equation)
            
while run:
    calc()
