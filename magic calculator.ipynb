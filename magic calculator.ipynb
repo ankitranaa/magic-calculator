{
 "cells": [
  {
   "cell_type": "code",
   "execution_count": 3,
   "metadata": {},
   "outputs": [
    {
     "name": "stdout",
     "output_type": "stream",
     "text": [
      "Calculator\n",
      "Type quit to exit\n",
      "Enter the equation23+32\n",
      "55-2\n",
      "53*8\n",
      "424/23\n",
      "18.434782608695652quit\n"
     ]
    }
   ],
   "source": [
    "import re\n",
    "print(\"Calculator\")\n",
    "print(\"Type quit to exit\")\n",
    "previous=0\n",
    "run=True\n",
    "\n",
    "def calc():\n",
    "    global run #to access and change the values insde function\n",
    "    global previous\n",
    "    equation=\"\"\n",
    "    if previous==0:\n",
    "        equation=input(\"Enter the equation\")\n",
    "    else:\n",
    "        equation=input(str(previous))\n",
    "    \n",
    "    if equation==\"quit\":\n",
    "        run=False\n",
    "    \n",
    "    else:\n",
    "        equation=re.sub(\"[a-zA-Z,?:()!\" \".]\",\" \",equation)\n",
    "        \n",
    "        if previous==0:\n",
    "            previous=eval(equation)\n",
    "        else:\n",
    "            previous=eval(str(previous)+equation)\n",
    "            \n",
    "while run:\n",
    "    calc()"
   ]
  },
  {
   "cell_type": "code",
   "execution_count": null,
   "metadata": {},
   "outputs": [],
   "source": []
  },
  {
   "cell_type": "code",
   "execution_count": null,
   "metadata": {},
   "outputs": [],
   "source": []
  }
 ],
 "metadata": {
  "kernelspec": {
   "display_name": "Python 3",
   "language": "python",
   "name": "python3"
  },
  "language_info": {
   "codemirror_mode": {
    "name": "ipython",
    "version": 3
   },
   "file_extension": ".py",
   "mimetype": "text/x-python",
   "name": "python",
   "nbconvert_exporter": "python",
   "pygments_lexer": "ipython3",
   "version": "3.7.6"
  }
 },
 "nbformat": 4,
 "nbformat_minor": 4
}
